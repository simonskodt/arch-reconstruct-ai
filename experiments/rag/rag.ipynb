{
 "cells": [
  {
   "cell_type": "markdown",
   "id": "1b486714",
   "metadata": {},
   "source": [
    "# Vector Store"
   ]
  },
  {
   "cell_type": "markdown",
   "id": "c3f5ce3e",
   "metadata": {},
   "source": [
    "## Produce text on dogs and cats"
   ]
  },
  {
   "cell_type": "code",
   "execution_count": 11,
   "id": "1c7b873e",
   "metadata": {},
   "outputs": [],
   "source": [
    "# Load simple sentences\n",
    "_texts = [\n",
    "    \"Dogs are great companions, \"\n",
    "    \"known for their loyalty and friendliness.\",\n",
    "    \"Cats are independent pets that often enjoy their own space.\",\n",
    "]"
   ]
  },
  {
   "cell_type": "markdown",
   "id": "2f4d1d2d",
   "metadata": {},
   "source": [
    "## Load PDF"
   ]
  },
  {
   "cell_type": "code",
   "execution_count": 12,
   "id": "4c91f053",
   "metadata": {},
   "outputs": [],
   "source": [
    "from langchain_community.document_loaders import PyPDFLoader\n",
    "from langchain_text_splitters import RecursiveCharacterTextSplitter\n",
    "\n",
    "file_path = \"./Rabbits and Guinea Pigs.pdf\"\n",
    "loader = PyPDFLoader(file_path)\n",
    "docs = loader.load()\n",
    "text_splitter = RecursiveCharacterTextSplitter(\n",
    "    chunk_size=1000, chunk_overlap=200, add_start_index=True\n",
    ")\n",
    "all_splits = text_splitter.split_documents(docs)"
   ]
  },
  {
   "cell_type": "markdown",
   "id": "1aee3549",
   "metadata": {},
   "source": [
    "## Setup vector store and retriever tool"
   ]
  },
  {
   "cell_type": "code",
   "execution_count": 13,
   "id": "23b12386",
   "metadata": {},
   "outputs": [],
   "source": [
    "from langchain_core.vectorstores import InMemoryVectorStore\n",
    "from langchain_openai import OpenAIEmbeddings\n",
    "from langchain_core.tools import create_retriever_tool\n",
    "\n",
    "_embeddings = OpenAIEmbeddings()\n",
    "vector_store = InMemoryVectorStore(_embeddings)\n",
    "\n",
    "vector_store.add_texts(_texts)\n",
    "vector_store.add_documents(all_splits)\n",
    "\n",
    "document_tool = create_retriever_tool(\n",
    "    vector_store.as_retriever(),\n",
    "    \"pet_information_retriever\",\n",
    "    \"Fetches information about pets (dogs, cats, rabbits, and guinea pigs).\"\n",
    ")"
   ]
  },
  {
   "cell_type": "markdown",
   "id": "38d8fdfa",
   "metadata": {},
   "source": [
    "## Create agent"
   ]
  },
  {
   "cell_type": "code",
   "execution_count": 14,
   "id": "faf2ff66",
   "metadata": {},
   "outputs": [],
   "source": [
    "from langchain.agents import create_agent\n",
    "from langchain_ollama.chat_models import ChatOllama\n",
    "from langchain_openai import ChatOpenAI\n",
    "\n",
    "ollama_model = ChatOllama(model=\"mistral:latest\")\n",
    "openai_model = ChatOpenAI(model=\"gpt-3.5-turbo\")\n",
    "\n",
    "use_ollama = True\n",
    "selected_model = ollama_model if use_ollama else openai_model\n",
    "\n",
    "agent = create_agent(\n",
    "    selected_model,\n",
    "    tools=[document_tool],\n",
    "    prompt=\"Act as an assistant. Call the document tool that you have available to answer questions.\",\n",
    ")"
   ]
  },
  {
   "cell_type": "code",
   "execution_count": 15,
   "id": "a9ba8427",
   "metadata": {},
   "outputs": [],
   "source": [
    "from langchain_core.messages import HumanMessage, ToolMessage\n",
    "from langchain_core.messages.chat import ChatMessage\n",
    "\n",
    "result = agent.invoke((\n",
    "    {\"messages\": [HumanMessage(\"What are rabbits known for?\")]}\n",
    "))"
   ]
  },
  {
   "cell_type": "code",
   "execution_count": 16,
   "id": "9e55c5fb",
   "metadata": {},
   "outputs": [
    {
     "name": "stdout",
     "output_type": "stream",
     "text": [
      "================================\u001b[1m Human Message \u001b[0m=================================\n",
      "\n",
      "What are rabbits known for?\n",
      "==================================\u001b[1m Ai Message \u001b[0m==================================\n",
      "\n",
      " [{\"name\":\"pet_information_retriever\",\"arguments\":{\"query\":\"Rabbits\"}}]\n",
      "\n",
      "According to the information retrieved, Rabbits are known for their long ears, soft fur, and twitching noses. They are herbivores that consume a variety of plant materials. Rabbits are also famous for their high reproductive rate.\n"
     ]
    }
   ],
   "source": [
    "import pprint as pp\n",
    "\n",
    "for m in result['messages']:\n",
    "    m.pretty_print()"
   ]
  },
  {
   "cell_type": "markdown",
   "id": "06a48abf",
   "metadata": {},
   "source": [
    "## For multiple documents"
   ]
  },
  {
   "cell_type": "code",
   "execution_count": 17,
   "id": "9911f3a0",
   "metadata": {},
   "outputs": [],
   "source": [
    "from langchain_core.documents import Document\n",
    "\n",
    "document_1 = Document(\n",
    "    page_content=\"I had chocolate chip pancakes and scrambled eggs for breakfast this morning.\",\n",
    "    metadata={\"source\": \"tweet\"},\n",
    ")\n",
    "\n",
    "document_2 = Document(\n",
    "    page_content=\"Doc 2\",\n",
    "    metadata={\"source\": \"tweet\"},\n",
    ")"
   ]
  },
  {
   "cell_type": "code",
   "execution_count": 18,
   "id": "82ead052",
   "metadata": {},
   "outputs": [
    {
     "data": {
      "text/plain": [
       "['c3366212-6783-4c71-b29a-18631129a47d',\n",
       " 'b3da40a5-0dd9-4e8b-97c2-01c128853784']"
      ]
     },
     "execution_count": 18,
     "metadata": {},
     "output_type": "execute_result"
    }
   ],
   "source": [
    "documents = [document_1, document_2]\n",
    "\n",
    "vector_store.add_documents(documents=documents)"
   ]
  }
 ],
 "metadata": {
  "kernelspec": {
   "display_name": "arch-reconstruct-ai (3.13.7)",
   "language": "python",
   "name": "python3"
  },
  "language_info": {
   "codemirror_mode": {
    "name": "ipython",
    "version": 3
   },
   "file_extension": ".py",
   "mimetype": "text/x-python",
   "name": "python",
   "nbconvert_exporter": "python",
   "pygments_lexer": "ipython3",
   "version": "3.13.7"
  }
 },
 "nbformat": 4,
 "nbformat_minor": 5
}
