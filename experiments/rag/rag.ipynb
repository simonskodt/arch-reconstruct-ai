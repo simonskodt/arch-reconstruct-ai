{
 "cells": [
  {
   "cell_type": "markdown",
   "id": "1b486714",
   "metadata": {},
   "source": [
    "# Vector Store"
   ]
  },
  {
   "cell_type": "markdown",
   "id": "c3f5ce3e",
   "metadata": {},
   "source": [
    "## Produce text on dogs and cats"
   ]
  },
  {
   "cell_type": "code",
   "execution_count": 48,
   "id": "1c7b873e",
   "metadata": {},
   "outputs": [],
   "source": [
    "# Load simple sentences\n",
    "_texts = [\n",
    "    \"Dogs are great companions, \"\n",
    "    \"known for their loyalty and friendliness.\",\n",
    "    \"Cats are independent pets that often enjoy their own space.\",\n",
    "]"
   ]
  },
  {
   "cell_type": "markdown",
   "id": "2f4d1d2d",
   "metadata": {},
   "source": [
    "## Load PDF"
   ]
  },
  {
   "cell_type": "code",
   "execution_count": 33,
   "id": "4c91f053",
   "metadata": {},
   "outputs": [],
   "source": [
    "from langchain_community.document_loaders import PyPDFLoader\n",
    "from langchain_text_splitters import RecursiveCharacterTextSplitter\n",
    "\n",
    "file_path = \"./Rabbits and Guinea Pigs.pdf\"\n",
    "loader = PyPDFLoader(file_path)\n",
    "docs = loader.load()\n",
    "text_splitter = RecursiveCharacterTextSplitter(\n",
    "    chunk_size=1000, chunk_overlap=200, add_start_index=True\n",
    ")\n",
    "all_splits = text_splitter.split_documents(docs)"
   ]
  },
  {
   "cell_type": "markdown",
   "id": "1aee3549",
   "metadata": {},
   "source": [
    "## Setup vector store and retriever tool"
   ]
  },
  {
   "cell_type": "code",
   "execution_count": null,
   "id": "23b12386",
   "metadata": {},
   "outputs": [],
   "source": [
    "from langchain_core.vectorstores import InMemoryVectorStore\n",
    "from langchain_openai import OpenAIEmbeddings\n",
    "from langchain_ollama import OllamaEmbeddings\n",
    "from langchain_core.tools import create_retriever_tool\n",
    "\n",
    "_ollama_embeddings = OllamaEmbeddings(model=\"nomic-embed-text:v1.5\")\n",
    "_embeddings = OpenAIEmbeddings()\n",
    "\n",
    "use_ollama_embedding = False\n",
    "selected_model = _ollama_embeddings if use_ollama_embedding else _embeddings\n",
    "\n",
    "vector_store = InMemoryVectorStore(_embeddings)\n",
    "\n",
    "vector_store.add_texts(_texts)\n",
    "vector_store.add_documents(all_splits)\n",
    "\n",
    "document_tool = create_retriever_tool(\n",
    "    vector_store.as_retriever(),\n",
    "    \"pet_information_retriever\",\n",
    "    \"Fetches information about pets (dogs, cats, rabbits, and guinea pigs).\"\n",
    ")"
   ]
  },
  {
   "cell_type": "markdown",
   "id": "38d8fdfa",
   "metadata": {},
   "source": [
    "## Create agent"
   ]
  },
  {
   "cell_type": "code",
   "execution_count": 49,
   "id": "faf2ff66",
   "metadata": {},
   "outputs": [],
   "source": [
    "from langchain.agents import create_agent\n",
    "from langchain_ollama.chat_models import ChatOllama\n",
    "from langchain_openai import ChatOpenAI\n",
    "\n",
    "ollama_model = ChatOllama(model=\"mistral:latest\")\n",
    "openai_model = ChatOpenAI(model=\"gpt-3.5-turbo\")\n",
    "\n",
    "use_ollama = False\n",
    "selected_model = ollama_model if use_ollama else openai_model\n",
    "\n",
    "agent = create_agent(\n",
    "    selected_model,\n",
    "    tools=[document_tool],\n",
    "    prompt=f\"\"\"You are a helpful pet assistant with access to information about pets.\n",
    "\n",
    "        Your primary tool is: {document_tool.name}\n",
    "        Description: {document_tool.description}\n",
    "\n",
    "        Guidelines:\n",
    "        - Use the tool to find relevant information about pets (dogs, cats, rabbits, and guinea pigs)\n",
    "        - Be conversational and friendly in your responses\n",
    "        - If the user asks about specific pets, characteristics, or care, always search the tool first\n",
    "        - Provide context from the retrieved information when answering\n",
    "        - If no relevant information is found, suggest related topics or ask for clarification\n",
    "        - Keep responses informative but not overwhelming\n",
    "\n",
    "        Always search for pet-related information before giving general advice.\"\"\",\n",
    ")"
   ]
  },
  {
   "cell_type": "code",
   "execution_count": 38,
   "id": "a9ba8427",
   "metadata": {},
   "outputs": [],
   "source": [
    "from langchain_core.messages import HumanMessage, ToolMessage\n",
    "from langchain_core.messages.chat import ChatMessage\n",
    "\n",
    "result = agent.invoke((\n",
    "    {\"messages\": [HumanMessage(\"What are rabbits known for?\")]}\n",
    "))"
   ]
  },
  {
   "cell_type": "code",
   "execution_count": 39,
   "id": "9e55c5fb",
   "metadata": {},
   "outputs": [
    {
     "name": "stdout",
     "output_type": "stream",
     "text": [
      "================================\u001b[1m Human Message \u001b[0m=================================\n",
      "\n",
      "What are rabbits known for?\n",
      "==================================\u001b[1m Ai Message \u001b[0m==================================\n",
      "Tool Calls:\n",
      "  pet_information_retriever (call_Rfwn6fXykYBhOLEH7qgLVlrP)\n",
      " Call ID: call_Rfwn6fXykYBhOLEH7qgLVlrP\n",
      "  Args:\n",
      "    query: What are rabbits known for?\n",
      "=================================\u001b[1m Tool Message \u001b[0m=================================\n",
      "Name: pet_information_retriever\n",
      "\n",
      "Rabbits \n",
      "Rabbits are gentle, social herbivores that flourish when given space to explore \n",
      "combined with secure hiding spots that let them feel sheltered. Their digestive system \n",
      "is optimized for near constant intake of high fiber plant matter, so unlimited fresh grass \n",
      "hay is the cornerstone of health, keeping gut motility active and naturally wearing down \n",
      "continuously growing teeth. Supplemental leafy greens add hydration and \n",
      "micronutrients, while calorie dense pellets are best limited to prevent obesity and cecal \n",
      "imbalance. Subtle body language—upright periscoping to survey, relaxed loafing, \n",
      "binkies during energetic play bursts, quiet tooth purring when content, and a sudden \n",
      "ground thump as an alarm—communicates mood and environmental assessment. \n",
      "Because powerful hind limbs attach to a comparatively delicate spine, proper handling \n",
      "always supports the hindquarters to avoid twisting injury. Enrichment that channels\n",
      "\n",
      "Because powerful hind limbs attach to a comparatively delicate spine, proper handling \n",
      "always supports the hindquarters to avoid twisting injury. Enrichment that channels \n",
      "instinctive chewing (untreated wood, woven hay toys, cardboard tunnels) protects \n",
      "household items and provides mental stimulation. As crepuscular animals, rabbits \n",
      "show peak activity in early morning and evening, making those ideal windows for \n",
      "exercise and interaction. Temperature management matters; they dissipate heat poorly \n",
      "and benefit from ventilation, shade, and cool surfaces in warmer months. Preventive \n",
      "care includes timely spay or neuter (reducing territorial spraying, hormone stress, and \n",
      "certain cancers), routine nail trims, grooming for long‑haired breeds, and daily \n",
      "monitoring of hay intake and fecal output—early reductions can signal gastrointestinal \n",
      "stasis requiring prompt intervention. Bonded pairs or compatible small groups often\n",
      "\n",
      "small groups reduce loneliness, though monitoring for barbering or resource guarding \n",
      "remains important. Cross‑species housing with rabbits is discouraged: dietary \n",
      "micronutrient divergence (vitamin C dependence), size and strength mismatch, and \n",
      "potential pathogen asymmetry increase risk. Early health deviations often surface as \n",
      "quieter vocalization, posture flattening, reduced foraging enthusiasm, subtle weight \n",
      "drift (necessitating routine gram‑scale tracking), or changes in pellet consistency and \n",
      "frequency. Fresh water access via cleaned bottles or wide bowls, protection from \n",
      "temperature extremes (notably heat stress), and a consistent light–dark cycle reinforce \n",
      "physiological stability. Preventive focus—balanced nutrient intake, abundant fiber, \n",
      "enriched social environment, vigilant daily observation—extends longevity while \n",
      "preserving the natural, curious behaviors that define healthy cavies.\n",
      "\n",
      "Dogs are great companions, known for their loyalty and friendliness.\n",
      "==================================\u001b[1m Ai Message \u001b[0m==================================\n",
      "\n",
      "Rabbits are known for being gentle, social herbivores that thrive with space to explore and secure hiding spots. Key points:\n",
      "\n",
      "- Diet: mostly hay (high fiber) to support gut health and keep teeth worn down; fresh leafy greens; limited pellets; always provide fresh water.\n",
      "- Behavior: communicate with body language—upright “periscope” scans, relaxed loafing, bursts of jumping called binkies, quiet tooth purring when content, and a thump to signal alarm.\n",
      "- Handling: always support the hindquarters to protect the spine and prevent twisting injuries.\n",
      "- Enrichment: provide safe chew items (untreated wood, hay toys, cardboard tunnels) to satisfy chewing and mental stimulation.\n",
      "- Activity: crepuscular—peaks in early morning and evening; use these times for interaction and exercise.\n",
      "- Environment: protect from heat; ensure ventilation, shade, and cool surfaces.\n",
      "- Healthcare: preventive care includes spaying/neutering, nail trims, grooming for long-haired breeds, and daily monitoring of hay intake and stool/fecal output (early changes can signal problems like GI stasis).\n",
      "- Social needs: bonded pairs or small groups help reduce loneliness, but monitor for behavior issues like barbering or resource guarding.\n",
      "- Housing: cross-species housing is generally discouraged due to dietary and health differences.\n",
      "- Early health signs: changes in vocalization, posture, foraging, weight, or pellet/feces consistency can indicate health issues.\n",
      "- Water and light: provide constant access to fresh water and a stable light–dark cycle.\n",
      "\n",
      "If you’d like, I can tailor these tips to a specific rabbit breed, age, or living situation.\n"
     ]
    }
   ],
   "source": [
    "import pprint as pp\n",
    "\n",
    "for m in result['messages']:\n",
    "    m.pretty_print()"
   ]
  },
  {
   "cell_type": "markdown",
   "id": "06a48abf",
   "metadata": {},
   "source": [
    "## For multiple documents"
   ]
  },
  {
   "cell_type": "code",
   "execution_count": 40,
   "id": "9911f3a0",
   "metadata": {},
   "outputs": [],
   "source": [
    "from langchain_core.documents import Document\n",
    "\n",
    "document_1 = Document(\n",
    "    page_content=\"I had chocolate chip pancakes and scrambled eggs for breakfast this morning.\",\n",
    "    metadata={\"source\": \"tweet\"},\n",
    ")\n",
    "\n",
    "document_2 = Document(\n",
    "    page_content=\"For lunch, I enjoyed a fresh salad with grilled chicken and avocado.\",\n",
    "    metadata={\"source\": \"tweet\"},\n",
    ")"
   ]
  },
  {
   "cell_type": "code",
   "execution_count": 41,
   "id": "82ead052",
   "metadata": {},
   "outputs": [
    {
     "data": {
      "text/plain": [
       "['294b1b6f-2378-4241-8a60-531e41fb7c9f',\n",
       " '353f90c4-3d5f-472a-b5c4-ab98f11730a7']"
      ]
     },
     "execution_count": 41,
     "metadata": {},
     "output_type": "execute_result"
    }
   ],
   "source": [
    "documents = [document_1, document_2]\n",
    "\n",
    "new_vector_store = InMemoryVectorStore(_embeddings)\n",
    "new_vector_store.add_documents(documents=documents)"
   ]
  },
  {
   "cell_type": "code",
   "execution_count": 42,
   "id": "59145f3d",
   "metadata": {},
   "outputs": [],
   "source": [
    "meal_document_tool = create_retriever_tool(\n",
    "    new_vector_store.as_retriever(),\n",
    "    \"meal_information_retriever\",\n",
    "    \"Fetches information about meals and food experiences from tweets.\"\n",
    ")\n",
    "\n",
    "agent = create_agent(\n",
    "    selected_model,\n",
    "    tools=[meal_document_tool],\n",
    "    prompt=f\"\"\"You are a helpful food assistant with access to personal meal experiences shared on social media.\n",
    "\n",
    "        Your primary tool is: {meal_document_tool.name}\n",
    "        Description: {meal_document_tool.description}\n",
    "\n",
    "        Guidelines:\n",
    "        - Use the tool to find relevant information about meals, food experiences, and dining habits from the available tweets\n",
    "        - Be conversational and friendly in your responses\n",
    "        - If the user asks about specific meals, ingredients, or food experiences, always search the tool first\n",
    "        - Provide context from the retrieved information when answering\n",
    "        - If no relevant information is found, suggest related topics or ask for clarification\n",
    "        - Keep responses informative but not overwhelming\n",
    "\n",
    "        Always search for meal-related information before giving general advice.\"\"\",\n",
    ")"
   ]
  },
  {
   "cell_type": "code",
   "execution_count": 50,
   "id": "af465f9b",
   "metadata": {},
   "outputs": [],
   "source": [
    "test_messages_meal_agent = [\n",
    "    \"What did you have for breakfast?\",      # must call tool\n",
    "    \"What did you have for lunch?\",          # must call tool\n",
    "    \"What are some meal ideas?\",             # maybe call tool\n",
    "    \"Tell me about your food experiences.\",  # maybe call tool\n",
    "    \"What's your favorite color?\",           # should not call tool\n",
    "    \"How to bake a cake?\"                    # should not call tool\n",
    "]\n",
    "\n",
    "test_messages_pet_agent = [\n",
    "    \"What are dogs known for?\",              # must call tool\n",
    "    \"What are rabbits known for?\",           # must call tool\n",
    "    \"Tell me about pets.\",                   # maybe call tool\n",
    "    \"What are some pet characteristics?\",    # maybe call tool\n",
    "    \"What's the weather today?\",             # should not call tool\n",
    "    \"How to train a dog?\"                    # should not call tool\n",
    "]"
   ]
  },
  {
   "cell_type": "code",
   "execution_count": 52,
   "id": "e96fd644",
   "metadata": {},
   "outputs": [
    {
     "name": "stdout",
     "output_type": "stream",
     "text": [
      "\n",
      "==================================================\n",
      "Testing Meal Agent\n",
      "==================================================\n",
      "\n",
      "--- Test 1: 'What did you have for breakfast?' ---\n",
      "✗ No tool called\n",
      "Response: I'm here to help you with information about pets like dogs, cats, rabbits, and guinea pigs. If you have any questions about pets or need advice on pet...\n",
      "\n",
      "--- Test 2: 'What did you have for lunch?' ---\n",
      "✗ No tool called\n",
      "Response: I'm here to help you with information about pets like dogs, cats, rabbits, and guinea pigs. If you have any questions about pets or need advice on pet...\n",
      "\n",
      "--- Test 2: 'What did you have for lunch?' ---\n",
      "✗ No tool called\n",
      "Response: I'm here to provide information about pets! If you have any questions about dogs, cats, rabbits, or guinea pigs, feel free to ask. How can I assist yo...\n",
      "\n",
      "--- Test 3: 'What are some meal ideas?' ---\n",
      "✗ No tool called\n",
      "Response: I'm here to provide information about pets! If you have any questions about dogs, cats, rabbits, or guinea pigs, feel free to ask. How can I assist yo...\n",
      "\n",
      "--- Test 3: 'What are some meal ideas?' ---\n",
      "✓ Tool was called\n",
      "  Tool: pet_information_retriever\n",
      "Response: For rabbits, meal ideas should primarily consist of unlimited fresh grass hay which is crucial for their digestive health. Supplemental leafy greens c...\n",
      "\n",
      "--- Test 4: 'Tell me about your food experiences.' ---\n",
      "✓ Tool was called\n",
      "  Tool: pet_information_retriever\n",
      "Response: For rabbits, meal ideas should primarily consist of unlimited fresh grass hay which is crucial for their digestive health. Supplemental leafy greens c...\n",
      "\n",
      "--- Test 4: 'Tell me about your food experiences.' ---\n",
      "✗ No tool called\n",
      "Response: I'm here to help with any questions or information you need about pets, like dogs, cats, rabbits, and guinea pigs. If you have any specific questions ...\n",
      "\n",
      "--- Test 5: 'What's your favorite color?' ---\n",
      "✗ No tool called\n",
      "Response: I'm here to help with any questions or information you need about pets, like dogs, cats, rabbits, and guinea pigs. If you have any specific questions ...\n",
      "\n",
      "--- Test 5: 'What's your favorite color?' ---\n",
      "✗ No tool called\n",
      "Response: I'm here to help you with information about pets like dogs, cats, rabbits, and guinea pigs. If you have any questions or need assistance regarding pet...\n",
      "\n",
      "--- Test 6: 'How to bake a cake?' ---\n",
      "✗ No tool called\n",
      "Response: I'm here to help you with information about pets like dogs, cats, rabbits, and guinea pigs. If you have any questions or need assistance regarding pet...\n",
      "\n",
      "--- Test 6: 'How to bake a cake?' ---\n",
      "✗ No tool called\n",
      "Response: I see you're interested in baking! While baking a cake is not directly related to pets, I can still assist you by providing some general guidance or t...\n",
      "✗ No tool called\n",
      "Response: I see you're interested in baking! While baking a cake is not directly related to pets, I can still assist you by providing some general guidance or t...\n"
     ]
    }
   ],
   "source": [
    "def test_agent_responses(agent, messages, agent_name=\"Agent\"):\n",
    "    \"\"\"Test agent with multiple messages and see tool usage\"\"\"\n",
    "    print(f\"\\n{'='*50}\")\n",
    "    print(f\"Testing {agent_name}\")\n",
    "    print(f\"{'='*50}\")\n",
    "\n",
    "    for i, msg in enumerate(messages):\n",
    "        print(f\"\\n--- Test {i+1}: '{msg}' ---\")\n",
    "        try:\n",
    "            result = agent.invoke({\"messages\": [HumanMessage(msg)]})\n",
    "            # Check if tool was called\n",
    "            tool_calls = [m for m in result['messages'] if hasattr(m, 'tool_calls') and m.tool_calls]\n",
    "            if tool_calls:\n",
    "                print(\"✓ Tool was called\")\n",
    "                # Show tool call details\n",
    "                for call in tool_calls[0].tool_calls:\n",
    "                    print(f\"  Tool: {call['name']}\")\n",
    "            else:\n",
    "                print(\"✗ No tool called\")\n",
    "\n",
    "            # Show final response\n",
    "            final_msg = result['messages'][-1]\n",
    "            print(f\"Response: {final_msg.content[:150]}...\")\n",
    "\n",
    "        except Exception as e:\n",
    "            print(f\"Error: {e}\")\n",
    "\n",
    "test_agent_responses(agent, test_messages_meal_agent, \"Meal Agent\")\n",
    "# test_agent_responses(agent, test_messages_pet_agent, \"Pet Agent\")"
   ]
  }
 ],
 "metadata": {
  "kernelspec": {
   "display_name": "arch-reconstruct-ai (3.13.7)",
   "language": "python",
   "name": "python3"
  },
  "language_info": {
   "codemirror_mode": {
    "name": "ipython",
    "version": 3
   },
   "file_extension": ".py",
   "mimetype": "text/x-python",
   "name": "python",
   "nbconvert_exporter": "python",
   "pygments_lexer": "ipython3",
   "version": "3.13.7"
  }
 },
 "nbformat": 4,
 "nbformat_minor": 5
}
